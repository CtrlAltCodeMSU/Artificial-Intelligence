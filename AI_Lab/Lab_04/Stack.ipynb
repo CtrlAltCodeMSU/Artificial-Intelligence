{
 "cells": [
  {
   "cell_type": "markdown",
   "id": "d99cd51e",
   "metadata": {},
   "source": [
    "# This is Stack using class Implementation"
   ]
  },
  {
   "cell_type": "code",
   "execution_count": 2,
   "id": "4f37903e",
   "metadata": {},
   "outputs": [
    {
     "name": "stdout",
     "output_type": "stream",
     "text": [
      "Peek Element is:  4\n",
      "[0, 1, 2, 3, 4]\n"
     ]
    }
   ],
   "source": [
    "class Stack:\n",
    "    def __init__(self, arr , size):\n",
    "        self.arr = arr\n",
    "        self.size = size\n",
    "        self.top = -1\n",
    "    def push(self, element):\n",
    "        if not self.isFull():\n",
    "            self.top+=1\n",
    "            self.arr.append(element)\n",
    "    def pop(self):\n",
    "        if not self.isEmpty():\n",
    "            self.arr.pop()\n",
    "            self.top -= 1\n",
    "        else:\n",
    "            print(\"stack is empty\")\n",
    "    def isEmpty(self):\n",
    "        return self.top < 0\n",
    "    def isFull(self):\n",
    "        return (self.top >= self.size-1)\n",
    "    def peek(self):\n",
    "        return self.arr[self.top]\n",
    "    def display(self):\n",
    "        print(self.arr)\n",
    "        \n",
    "arr = []\n",
    "s = Stack(arr,100)\n",
    "\n",
    "for i in range(5):\n",
    "    s.push(i)\n",
    "    \n",
    "print(\"Peek Element is: \", s.peek())\n",
    "# s.pop()\n",
    "\n",
    "# for i in range(6):\n",
    "#     s.pop()\n",
    "    \n",
    "s.display()"
   ]
  },
  {
   "cell_type": "code",
   "execution_count": 3,
   "id": "1b3c6375",
   "metadata": {},
   "outputs": [
    {
     "name": "stdout",
     "output_type": "stream",
     "text": [
      "Peek Element:  4\n",
      "[0, 1, 2, 3, 4]\n"
     ]
    }
   ],
   "source": [
    "class Stack:\n",
    "    def __init__(self, arr , size):\n",
    "        self.arr = arr \n",
    "        self.size = size\n",
    "        self.top = -1\n",
    "    def push(self, value):\n",
    "        if not self.isFull():\n",
    "            self.top += 1\n",
    "            self.arr.append(value)\n",
    "    def pop(self):\n",
    "        if not self.isEmpty():\n",
    "            self.arr.pop()\n",
    "            self.top -= 1\n",
    "        else:\n",
    "            print(\"Stack is Empty\")\n",
    "    def isEmpty(self):\n",
    "        return self.top< 0\n",
    "    def isFull(self):\n",
    "        return (self.top >= self.size-1)\n",
    "    def peek(self):\n",
    "        return self.arr[self.top]\n",
    "    def display(self):\n",
    "        print(self.arr)\n",
    "    \n",
    "arr = []\n",
    "s = Stack(arr, 100)\n",
    "\n",
    "for i in range(5):\n",
    "    s.push(i)\n",
    "    \n",
    "\n",
    "print(\"Peek Element: \" , s.peek())\n",
    "s.display()"
   ]
  },
  {
   "cell_type": "code",
   "execution_count": 4,
   "id": "2e7c7d2c",
   "metadata": {},
   "outputs": [
    {
     "name": "stdout",
     "output_type": "stream",
     "text": [
      "Top element: 30\n",
      "Popped element: 30\n",
      "Stack size: 1\n",
      "Stack Elements:  [20]\n"
     ]
    }
   ],
   "source": [
    "from collections import deque\n",
    "class Stack:\n",
    "    def __init__(self):\n",
    "        self.stack = deque()\n",
    "    def push(self,item):\n",
    "        self.stack.append(item)\n",
    "    def pop(self):\n",
    "        if not self.is_empty():\n",
    "            return self.stack.pop()\n",
    "        else:\n",
    "            print(\"Stack is empty\")\n",
    "    def peek(self):\n",
    "        if not self.is_empty():\n",
    "            return self.stack[-1]\n",
    "        else:\n",
    "            print(\"Stack is empty\")\n",
    "    def is_empty(self):\n",
    "        return len(self.stack)==0\n",
    "    def size(self):\n",
    "        return len(self.stack)\n",
    "    def display(self):\n",
    "        if self.is_empty():\n",
    "            print(\"Stack is empty\")\n",
    "        else:\n",
    "            print(\"Stack Elements: \" , list(self.stack))\n",
    "s = Stack()\n",
    "s.push(20)\n",
    "s.push(30)\n",
    "\n",
    "print(\"Top element:\", s.peek())  \n",
    "print(\"Popped element:\", s.pop())\n",
    "print(\"Stack size:\", s.size())  \n",
    "\n",
    "s.display()"
   ]
  }
 ],
 "metadata": {
  "kernelspec": {
   "display_name": "Python (myenv)",
   "language": "python",
   "name": "myenv"
  },
  "language_info": {
   "codemirror_mode": {
    "name": "ipython",
    "version": 3
   },
   "file_extension": ".py",
   "mimetype": "text/x-python",
   "name": "python",
   "nbconvert_exporter": "python",
   "pygments_lexer": "ipython3",
   "version": "3.12.3"
  }
 },
 "nbformat": 4,
 "nbformat_minor": 5
}
