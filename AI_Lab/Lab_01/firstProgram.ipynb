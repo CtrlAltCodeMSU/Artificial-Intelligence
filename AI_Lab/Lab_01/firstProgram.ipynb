{
 "cells": [
  {
   "cell_type": "code",
   "execution_count": 3,
   "metadata": {},
   "outputs": [
    {
     "name": "stdout",
     "output_type": "stream",
     "text": [
      "The number is odd\n"
     ]
    }
   ],
   "source": [
    "a = int(input(\"Enter a number: \"))\n",
    "if(a%2==0):\n",
    "  print(\"Number is even\")\n",
    "else:\n",
    "  print(\"The number is odd\")"
   ]
  },
  {
   "cell_type": "code",
   "execution_count": 16,
   "metadata": {},
   "outputs": [
    {
     "name": "stdout",
     "output_type": "stream",
     "text": [
      "The number is odd\n",
      "None\n"
     ]
    }
   ],
   "source": [
    "def is_even(num):\n",
    "  if(num%2==0):\n",
    "    print(\"Number is even\")\n",
    "  else:\n",
    "    print(\"The number is odd\")\n",
    "  return \n",
    "a = int(input(\"Enter Number: \"))\n",
    "print(is_even(a))"
   ]
  },
  {
   "cell_type": "code",
   "execution_count": 15,
   "metadata": {},
   "outputs": [
    {
     "name": "stdout",
     "output_type": "stream",
     "text": [
      "60\n"
     ]
    }
   ],
   "source": [
    "def is_sum(a,b,c):\n",
    "  return a+b+c\n",
    "a1 = int(input(\"Enter Number 1: \"))\n",
    "b2 = int(input(\"Enter Number 2: \"))\n",
    "c3 = int(input(\"Enter Number 3: \"))\n",
    "\n",
    "print(is_sum(a1,b2,c3))"
   ]
  }
 ],
 "metadata": {
  "kernelspec": {
   "display_name": "Python 3",
   "language": "python",
   "name": "python3"
  },
  "language_info": {
   "codemirror_mode": {
    "name": "ipython",
    "version": 3
   },
   "file_extension": ".py",
   "mimetype": "text/x-python",
   "name": "python",
   "nbconvert_exporter": "python",
   "pygments_lexer": "ipython3",
   "version": "3.12.5"
  }
 },
 "nbformat": 4,
 "nbformat_minor": 2
}
