{
 "cells": [
  {
   "cell_type": "markdown",
   "id": "9015af7f",
   "metadata": {},
   "source": [
    "# This is my Practice program\n",
    "__This is my Practice Program__  \n",
    "_This is my Practice Program_  \n",
    "~~This is my Practice Program~~  \n",
    "- item  \n",
    "* item  \n",
    "+ item  \n",
    "`this is my practice program`  \n",
    "$E=mc^2$\n",
    "$$E=mc^2$$"
   ]
  },
  {
   "cell_type": "code",
   "execution_count": 4,
   "id": "898df4c8",
   "metadata": {},
   "outputs": [
    {
     "name": "stdout",
     "output_type": "stream",
     "text": [
      "3\n"
     ]
    }
   ],
   "source": [
    "print(1+2)"
   ]
  }
 ],
 "metadata": {
  "kernelspec": {
   "display_name": "Python (myenv)",
   "language": "python",
   "name": "myenv"
  },
  "language_info": {
   "codemirror_mode": {
    "name": "ipython",
    "version": 3
   },
   "file_extension": ".py",
   "mimetype": "text/x-python",
   "name": "python",
   "nbconvert_exporter": "python",
   "pygments_lexer": "ipython3",
   "version": "3.12.3"
  }
 },
 "nbformat": 4,
 "nbformat_minor": 5
}
