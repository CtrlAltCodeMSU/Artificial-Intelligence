{
 "cells": [
  {
   "cell_type": "code",
   "execution_count": null,
   "metadata": {},
   "outputs": [],
   "source": [
    "def dfs_iterative(graph, start, goal):\n",
    "    # The stack holds tuples of (current_node, path_so_far)\n",
    "    stack = [(start, [start])]\n",
    "    visited = set()\n",
    "    \n",
    "    while stack:\n",
    "        current, path = stack.pop()\n",
    "        if current in visited:\n",
    "            continue\n",
    "        visited.add(current)\n",
    "        # Check if the goal has been reached\n",
    "        if current == goal:\n",
    "            return path\n",
    "        # Add neighbors to the stack\n",
    "        for neighbor in graph.get(current, []):\n",
    "            if neighbor not in visited:\n",
    "                stack.append((neighbor, path + [neighbor]))\n",
    "    return None\n",
    "\n",
    "# Using the same graph as before\n",
    "path_dfs = dfs_iterative(graph, 'A', 'F')\n",
    "print(\"DFS path:\", path_dfs)\n"
   ]
  }
 ],
 "metadata": {
  "kernelspec": {
   "display_name": "Python 3",
   "language": "python",
   "name": "python3"
  },
  "language_info": {
   "codemirror_mode": {
    "name": "ipython",
    "version": 3
   },
   "file_extension": ".py",
   "mimetype": "text/x-python",
   "name": "python",
   "nbconvert_exporter": "python",
   "pygments_lexer": "ipython3",
   "version": "3.12.5"
  }
 },
 "nbformat": 4,
 "nbformat_minor": 2
}
