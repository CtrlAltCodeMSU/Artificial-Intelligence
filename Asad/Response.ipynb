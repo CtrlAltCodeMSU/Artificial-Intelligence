{
 "cells": [
  {
   "cell_type": "code",
   "execution_count": null,
   "id": "ba93cef7-9d0d-47d1-9ec5-9395a2e2ae16",
   "metadata": {},
   "outputs": [],
   "source": []
  },
  {
   "cell_type": "markdown",
   "id": "166dad92-1412-48f9-bf61-2e3ca2d7b860",
   "metadata": {},
   "source": [
    "# Q(a)Import necessary libraries and load the dataset"
   ]
  },
  {
   "cell_type": "code",
   "execution_count": 8,
   "id": "41483b54-b453-4a63-a984-0092ea61f2d6",
   "metadata": {},
   "outputs": [],
   "source": [
    "# Qa(i)\n",
    "# Import necessary library packages\n"
   ]
  },
  {
   "cell_type": "code",
   "execution_count": 10,
   "id": "8b49c2f7-29ac-448d-b273-a894a078cf15",
   "metadata": {},
   "outputs": [],
   "source": [
    "# Qa(ii)\n",
    "# Load the data from Departments.csv to df1\n",
    "# Load the data from Tools.csv to df2"
   ]
  },
  {
   "cell_type": "code",
   "execution_count": 12,
   "id": "ee83794b-3e9c-457c-9969-9ae3bdc3c08c",
   "metadata": {},
   "outputs": [],
   "source": [
    "# Qa(iii)\n",
    "# Display the first row of each data frame (df1 and df2) to verify that data from both files has been loaded successfully."
   ]
  },
  {
   "cell_type": "markdown",
   "id": "4d86595a-ce91-4def-9230-a3c36e99981e",
   "metadata": {},
   "source": [
    "# Q(b) Merging the two data frames and filling the missing values"
   ]
  },
  {
   "cell_type": "code",
   "execution_count": 15,
   "id": "f52fe57c-af15-4498-aa8f-6bdf39d8745f",
   "metadata": {},
   "outputs": [],
   "source": [
    "# Qb(i)\n",
    "# Run an appropriate command to merge df1 and df2 such that all rows of df2 must be selected in the merged data frame.\n"
   ]
  },
  {
   "cell_type": "code",
   "execution_count": 17,
   "id": "a43d02ad-3d87-45d1-a07e-29660869d2e0",
   "metadata": {},
   "outputs": [],
   "source": [
    "# Qb(ii)\n",
    "# Run an appropriate command to display the total number of missing values in each field."
   ]
  },
  {
   "cell_type": "code",
   "execution_count": null,
   "id": "15001b46-c81d-4004-83e0-f2492b4e9d49",
   "metadata": {},
   "outputs": [],
   "source": [
    "# Qb(iii) \n",
    "# Run an appropriate command to create a mapping between Department and Abb."
   ]
  },
  {
   "cell_type": "code",
   "execution_count": null,
   "id": "26253f98-3d41-4613-896c-ace876318c99",
   "metadata": {},
   "outputs": [],
   "source": [
    "# Qb(iv)\n",
    "# Run an appropriate command to fill the missing values of Department. Run an appropriate command to confirm that there are no missing values in any field."
   ]
  },
  {
   "cell_type": "code",
   "execution_count": null,
   "id": "1185cef7-72b2-460a-b25e-abffdad7bae9",
   "metadata": {},
   "outputs": [],
   "source": [
    "# Qb(v)\n",
    "# Run an appropriate command to save the updated data frame as a CSV file."
   ]
  },
  {
   "cell_type": "markdown",
   "id": "c5656272-bec9-4067-bd8f-8f09ff20e85d",
   "metadata": {},
   "source": [
    "# Q(c) Remove duplicate values\n"
   ]
  },
  {
   "cell_type": "code",
   "execution_count": 20,
   "id": "7108c705-8d40-49c1-958b-c644f7fc84b7",
   "metadata": {},
   "outputs": [],
   "source": [
    "# Qc(i)\n",
    "# Using the ‘Abb’ and ‘Tool’ fields, run an appropriate command to remove duplicate values from the merged data frame. "
   ]
  },
  {
   "cell_type": "code",
   "execution_count": 22,
   "id": "ae2ccd83-96ae-4992-aec0-9cc2db3f4aa3",
   "metadata": {},
   "outputs": [],
   "source": [
    "# Qc(ii)\n",
    "# Run an appropriate command to print the shape of original merged data frame and the shape of merged data frame after removing the duplicates."
   ]
  },
  {
   "cell_type": "code",
   "execution_count": 3,
   "id": "fe6aaa9c-37c7-4692-951c-ac33397ce5b8",
   "metadata": {},
   "outputs": [],
   "source": [
    "# Qc(iii)\n",
    "# Save the updated data frame (after removing the duplicates) as a CSV file. Rename this file to your CRN (CRN-Unique.CSV) and upload it with your answer files."
   ]
  },
  {
   "cell_type": "markdown",
   "id": "a0fdb71d-e5d0-479b-9ace-7b6e6cfa58aa",
   "metadata": {},
   "source": [
    "# Q(d) Data Analysis"
   ]
  },
  {
   "cell_type": "code",
   "execution_count": 25,
   "id": "0b6ff903-9377-4f50-b512-8dd5b932d5d7",
   "metadata": {},
   "outputs": [],
   "source": [
    "# Qd(i)\n",
    "# Consider the data frame obtained after removing the duplicates.\n",
    "# Run an appropriate command to find the department that has the highest variety of ‘Analysis’ types."
   ]
  },
  {
   "cell_type": "code",
   "execution_count": 1,
   "id": "bb660e76-4474-4251-9c09-c2b709ad1644",
   "metadata": {},
   "outputs": [],
   "source": [
    "# Qd(ii)\n",
    "# Consider the data frame obtained after removing the duplicates.\n",
    "# Run an appropriate command to show the percentage of updating of each tool.\n"
   ]
  },
  {
   "cell_type": "markdown",
   "id": "2955bf4e-a7a8-422d-b7b9-b2ec3275b1aa",
   "metadata": {},
   "source": [
    "# Q(e) Data Visualization"
   ]
  },
  {
   "cell_type": "code",
   "execution_count": 32,
   "id": "fc46e839-c64a-4576-9f46-c37e284175fa",
   "metadata": {},
   "outputs": [],
   "source": [
    "# Qe(i)\n",
    "# Consider the data frame obtained after removing the duplicates.\n",
    "# Create a bar chart showing the count of tools per department. "
   ]
  },
  {
   "cell_type": "code",
   "execution_count": 34,
   "id": "7bb09e8e-d086-410c-8cb4-8cbc73356283",
   "metadata": {},
   "outputs": [],
   "source": [
    "# Qe(ii)\n",
    "# Consider the data frame obtained after removing the duplicates.\n",
    "# Generate a pie chart for Analysis column."
   ]
  },
  {
   "cell_type": "code",
   "execution_count": null,
   "id": "84e26d91-7b93-41b2-a4b1-febc50efddc3",
   "metadata": {},
   "outputs": [],
   "source": [
    "# Qe(iii)\n",
    "# Consider the data frame obtained after removing the duplicates.\n",
    "# Create a bar plot to show the number of tools that are marked as \"Updated\". "
   ]
  }
 ],
 "metadata": {
  "kernelspec": {
   "display_name": "Python 3 (ipykernel)",
   "language": "python",
   "name": "python3"
  },
  "language_info": {
   "codemirror_mode": {
    "name": "ipython",
    "version": 3
   },
   "file_extension": ".py",
   "mimetype": "text/x-python",
   "name": "python",
   "nbconvert_exporter": "python",
   "pygments_lexer": "ipython3",
   "version": "3.12.4"
  }
 },
 "nbformat": 4,
 "nbformat_minor": 5
}
