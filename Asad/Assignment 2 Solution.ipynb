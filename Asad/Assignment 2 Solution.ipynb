{
 "cells": [
  {
   "cell_type": "code",
   "execution_count": null,
   "id": "ba93cef7-9d0d-47d1-9ec5-9395a2e2ae16",
   "metadata": {},
   "outputs": [],
   "source": [
    "!python.exe -m pip install --upgrade pip"
   ]
  },
  {
   "cell_type": "code",
   "execution_count": null,
   "id": "8cfdb975-eba3-4922-88e1-81038bc44015",
   "metadata": {},
   "outputs": [],
   "source": [
    "!pip install pandas\n",
    "!pip install numpy\n",
    "!pip install matplotlib\n",
    "!pip install seaborn\n",
    "!pip install altair\n",
    "!pip install altair_viewer\n",
    "!pip install plotly\n",
    "!pip install dash"
   ]
  },
  {
   "cell_type": "markdown",
   "id": "166dad92-1412-48f9-bf61-2e3ca2d7b860",
   "metadata": {},
   "source": [
    "# Q(a)Import necessary libraries and load the dataset\n"
   ]
  },
  {
   "cell_type": "code",
   "execution_count": null,
   "id": "41483b54-b453-4a63-a984-0092ea61f2d6",
   "metadata": {
    "execution": {
     "iopub.execute_input": "2025-04-18T22:57:52.521600Z",
     "iopub.status.busy": "2025-04-18T22:57:52.521600Z",
     "iopub.status.idle": "2025-04-18T22:57:57.303376Z",
     "shell.execute_reply": "2025-04-18T22:57:57.303376Z",
     "shell.execute_reply.started": "2025-04-18T22:57:52.521600Z"
    }
   },
   "outputs": [],
   "source": [
    "# Qa(i)\n",
    "# Import necessary library packages\n",
    "import pandas as pd\n",
    "import numpy as np\n",
    "import matplotlib.pyplot as plt\n",
    "import seaborn as sns\n",
    "import plotly.express as px\n",
    "import altair as alt\n",
    "import altair_viewer as altair_viewer\n",
    "import dash\n",
    "from dash import dcc, html\n",
    "import warnings\n",
    "warnings.filterwarnings(\"ignore\", category=FutureWarning)"
   ]
  },
  {
   "cell_type": "code",
   "execution_count": null,
   "id": "3328e556",
   "metadata": {},
   "outputs": [],
   "source": []
  },
  {
   "cell_type": "code",
   "execution_count": null,
   "id": "8b49c2f7-29ac-448d-b273-a894a078cf15",
   "metadata": {
    "execution": {
     "iopub.execute_input": "2025-04-18T22:57:57.306753Z",
     "iopub.status.busy": "2025-04-18T22:57:57.306753Z",
     "iopub.status.idle": "2025-04-18T22:57:57.323009Z",
     "shell.execute_reply": "2025-04-18T22:57:57.323009Z",
     "shell.execute_reply.started": "2025-04-18T22:57:57.306753Z"
    }
   },
   "outputs": [],
   "source": [
    "# Qa(ii)\n",
    "# Load the data from Departments.csv to df1\n",
    "# Load the data from Tools.csv to df2\n",
    "df1 = pd.read_csv('Departments.csv')\n",
    "df2 = pd.read_csv('Tools.csv')"
   ]
  },
  {
   "cell_type": "code",
   "execution_count": null,
   "id": "3a08c4fc",
   "metadata": {},
   "outputs": [],
   "source": []
  },
  {
   "cell_type": "code",
   "execution_count": null,
   "id": "ee83794b-3e9c-457c-9969-9ae3bdc3c08c",
   "metadata": {
    "execution": {
     "iopub.execute_input": "2025-04-18T22:57:57.329665Z",
     "iopub.status.busy": "2025-04-18T22:57:57.329097Z",
     "iopub.status.idle": "2025-04-18T22:57:57.354186Z",
     "shell.execute_reply": "2025-04-18T22:57:57.354186Z",
     "shell.execute_reply.started": "2025-04-18T22:57:57.329665Z"
    }
   },
   "outputs": [],
   "source": [
    "# Qa(iii)\n",
    "# Display the first row of each data frame (df1 and df2) to verify that data from both files has been loaded successfully.\n",
    "df1.head(1)"
   ]
  },
  {
   "cell_type": "code",
   "execution_count": null,
   "id": "4730f947-a43f-40a9-ba4e-3d56b744a838",
   "metadata": {
    "execution": {
     "iopub.execute_input": "2025-04-18T22:57:57.359244Z",
     "iopub.status.busy": "2025-04-18T22:57:57.359244Z",
     "iopub.status.idle": "2025-04-18T22:57:57.386835Z",
     "shell.execute_reply": "2025-04-18T22:57:57.386835Z",
     "shell.execute_reply.started": "2025-04-18T22:57:57.359244Z"
    }
   },
   "outputs": [],
   "source": [
    "df2.head(1)"
   ]
  },
  {
   "cell_type": "markdown",
   "id": "4d86595a-ce91-4def-9230-a3c36e99981e",
   "metadata": {},
   "source": [
    "# Q(b) Merging the two data frames and filling the missing values\n"
   ]
  },
  {
   "cell_type": "code",
   "execution_count": null,
   "id": "f52fe57c-af15-4498-aa8f-6bdf39d8745f",
   "metadata": {
    "execution": {
     "iopub.execute_input": "2025-04-18T22:57:57.389743Z",
     "iopub.status.busy": "2025-04-18T22:57:57.386835Z",
     "iopub.status.idle": "2025-04-18T22:57:57.409166Z",
     "shell.execute_reply": "2025-04-18T22:57:57.407248Z",
     "shell.execute_reply.started": "2025-04-18T22:57:57.389743Z"
    }
   },
   "outputs": [],
   "source": [
    "# Qb(i)\n",
    "# Run an appropriate command to merge df1 and df2 such that all rows of df2 must be selected in the merged data frame.\n",
    "merged_df = pd.merge(df1, df2, on='Abb', how='right')"
   ]
  },
  {
   "cell_type": "code",
   "execution_count": null,
   "id": "a43d02ad-3d87-45d1-a07e-29660869d2e0",
   "metadata": {
    "execution": {
     "iopub.execute_input": "2025-04-18T22:57:57.412867Z",
     "iopub.status.busy": "2025-04-18T22:57:57.412867Z",
     "iopub.status.idle": "2025-04-18T22:57:57.425484Z",
     "shell.execute_reply": "2025-04-18T22:57:57.425484Z",
     "shell.execute_reply.started": "2025-04-18T22:57:57.412867Z"
    }
   },
   "outputs": [],
   "source": [
    "# Qb(ii)\n",
    "# Run an appropriate command to display the total number of missing values in each field.\n",
    "merged_df.isnull().sum()"
   ]
  },
  {
   "cell_type": "code",
   "execution_count": null,
   "id": "15001b46-c81d-4004-83e0-f2492b4e9d49",
   "metadata": {
    "execution": {
     "iopub.execute_input": "2025-04-18T22:57:57.429153Z",
     "iopub.status.busy": "2025-04-18T22:57:57.429153Z",
     "iopub.status.idle": "2025-04-18T22:57:57.437519Z",
     "shell.execute_reply": "2025-04-18T22:57:57.437519Z",
     "shell.execute_reply.started": "2025-04-18T22:57:57.429153Z"
    }
   },
   "outputs": [],
   "source": [
    "# Qb(iii) \n",
    "# Run an appropriate command to create a mapping between Department and Abb.\n",
    "dept_mapping = dict(zip(df1['Department'], df1['Abb']))\n",
    "print(dept_mapping)"
   ]
  },
  {
   "cell_type": "code",
   "execution_count": null,
   "id": "8c92dc5f-cef9-444e-b610-3dad25a11e49",
   "metadata": {
    "execution": {
     "iopub.execute_input": "2025-04-18T22:57:57.441914Z",
     "iopub.status.busy": "2025-04-18T22:57:57.441358Z",
     "iopub.status.idle": "2025-04-18T22:57:57.458132Z",
     "shell.execute_reply": "2025-04-18T22:57:57.456540Z",
     "shell.execute_reply.started": "2025-04-18T22:57:57.441914Z"
    }
   },
   "outputs": [],
   "source": [
    "merged_df.replace(r'^\\s*$', np.nan, regex=True, inplace=True) #This is a Regular Expression Statement which removes all cells containing only whitespace\n",
    "merged_df['Department'] = merged_df['Department'].fillna(merged_df['Abb'].map(dept_mapping))"
   ]
  },
  {
   "cell_type": "code",
   "execution_count": null,
   "id": "26253f98-3d41-4613-896c-ace876318c99",
   "metadata": {
    "execution": {
     "iopub.execute_input": "2025-04-18T22:57:57.463868Z",
     "iopub.status.busy": "2025-04-18T22:57:57.460994Z",
     "iopub.status.idle": "2025-04-18T22:57:57.492850Z",
     "shell.execute_reply": "2025-04-18T22:57:57.492850Z",
     "shell.execute_reply.started": "2025-04-18T22:57:57.463868Z"
    }
   },
   "outputs": [],
   "source": [
    "# Qb(iv)\n",
    "# Run an appropriate command to fill the missing values of Department. Run an appropriate command to confirm that there are no missing values in any field.\n",
    "merged_df.fillna(\"Unknown\", inplace=True)\n",
    "merged_df.isnull().sum()"
   ]
  },
  {
   "cell_type": "code",
   "execution_count": null,
   "id": "1185cef7-72b2-460a-b25e-abffdad7bae9",
   "metadata": {
    "execution": {
     "iopub.execute_input": "2025-04-18T22:57:57.498018Z",
     "iopub.status.busy": "2025-04-18T22:57:57.498018Z",
     "iopub.status.idle": "2025-04-18T22:57:57.546218Z",
     "shell.execute_reply": "2025-04-18T22:57:57.546218Z",
     "shell.execute_reply.started": "2025-04-18T22:57:57.498018Z"
    }
   },
   "outputs": [],
   "source": [
    "# Qb(v)\n",
    "# Run an appropriate command to save the updated data frame as a CSV file.\n",
    "try:\n",
    "    merged_df.to_csv('CRN104389.csv', index=False)\n",
    "    print('\\nUpdated data frame with filled values saved to the folder as per your request')\n",
    "except Exception as e:\n",
    "    print(f\"Error saving data frame, please close the file as unsaved if you have currently opened this file: {e}\")"
   ]
  },
  {
   "cell_type": "markdown",
   "id": "c5656272-bec9-4067-bd8f-8f09ff20e85d",
   "metadata": {},
   "source": [
    "# Q(c) Remove duplicate values\n"
   ]
  },
  {
   "cell_type": "code",
   "execution_count": null,
   "id": "7108c705-8d40-49c1-958b-c644f7fc84b7",
   "metadata": {
    "execution": {
     "iopub.execute_input": "2025-04-18T22:57:57.550614Z",
     "iopub.status.busy": "2025-04-18T22:57:57.548607Z",
     "iopub.status.idle": "2025-04-18T22:57:57.567678Z",
     "shell.execute_reply": "2025-04-18T22:57:57.566162Z",
     "shell.execute_reply.started": "2025-04-18T22:57:57.550614Z"
    }
   },
   "outputs": [],
   "source": [
    "# Qc(i)\n",
    "# Using the ‘Abb’ and ‘Tool’ fields, run an appropriate command to remove duplicate values from the merged data frame. \n",
    "df_no_duplicates = merged_df.drop_duplicates(subset=['Abb', 'Tool'], keep='first')"
   ]
  },
  {
   "cell_type": "code",
   "execution_count": null,
   "id": "ae2ccd83-96ae-4992-aec0-9cc2db3f4aa3",
   "metadata": {
    "execution": {
     "iopub.execute_input": "2025-04-18T22:57:57.567678Z",
     "iopub.status.busy": "2025-04-18T22:57:57.567678Z",
     "iopub.status.idle": "2025-04-18T22:57:57.584720Z",
     "shell.execute_reply": "2025-04-18T22:57:57.581422Z",
     "shell.execute_reply.started": "2025-04-18T22:57:57.567678Z"
    }
   },
   "outputs": [],
   "source": [
    "# Qc(ii)\n",
    "# Run an appropriate command to print the shape of original merged data frame and the shape of merged data frame after removing the duplicates.\n",
    "print(f\"\\nShape of original merged data frame: {merged_df.shape}\")\n",
    "print(f\"Shape of merged data frame after removing duplicates: {df_no_duplicates.shape}\")"
   ]
  },
  {
   "cell_type": "code",
   "execution_count": null,
   "id": "fe6aaa9c-37c7-4692-951c-ac33397ce5b8",
   "metadata": {
    "execution": {
     "iopub.execute_input": "2025-04-18T22:57:57.586735Z",
     "iopub.status.busy": "2025-04-18T22:57:57.586735Z",
     "iopub.status.idle": "2025-04-18T22:57:57.625315Z",
     "shell.execute_reply": "2025-04-18T22:57:57.625315Z",
     "shell.execute_reply.started": "2025-04-18T22:57:57.586735Z"
    }
   },
   "outputs": [],
   "source": [
    "# Qc(iii)\n",
    "# Save the updated data frame (after removing the duplicates) as a CSV file. Rename this file to your CRN (CRN-Unique.CSV) and upload it with your answer files.\n",
    "unique_filename = 'CRN104389_UpdatedDF.csv' # Replace with actual CRN\n",
    "try:\n",
    "    df_no_duplicates.to_csv(unique_filename, index=False)\n",
    "    print(f\"De-duplicated data frame saved to '{unique_filename}'\")\n",
    "except Exception as e:\n",
    "    print(f\"Error saving de-duplicated data: {e}\")"
   ]
  },
  {
   "cell_type": "markdown",
   "id": "a0fdb71d-e5d0-479b-9ace-7b6e6cfa58aa",
   "metadata": {},
   "source": [
    "# Q(d) Data Analysis\n"
   ]
  },
  {
   "cell_type": "code",
   "execution_count": null,
   "id": "0b6ff903-9377-4f50-b512-8dd5b932d5d7",
   "metadata": {
    "execution": {
     "iopub.execute_input": "2025-04-18T22:57:57.629165Z",
     "iopub.status.busy": "2025-04-18T22:57:57.629165Z",
     "iopub.status.idle": "2025-04-18T22:57:57.650292Z",
     "shell.execute_reply": "2025-04-18T22:57:57.650292Z",
     "shell.execute_reply.started": "2025-04-18T22:57:57.629165Z"
    }
   },
   "outputs": [],
   "source": [
    "# Qd(i)\n",
    "# Consider the data frame obtained after removing the duplicates.\n",
    "# Run an appropriate command to find the department that has the highest variety of ‘Analysis’ types.\n",
    "try:\n",
    "    dept_analysis_unique_count = df_no_duplicates.groupby('Department')['Analysis'].nunique()\n",
    "    # Find the department(s) with the maximum count\n",
    "    dept_with_max_analysis_types = dept_analysis_unique_count.idxmax()\n",
    "    max_count = dept_analysis_unique_count.max()\n",
    "    print(f\"\\nDepartment with the highest variety of Analysis types ({max_count} types): {dept_with_max_analysis_types}\")\n",
    "except KeyError:\n",
    "    print(\"\\nCould not perform analysis: 'Department' or 'Analysis' column not found.\")\n",
    "except ValueError:\n",
    "     print(\"\\nCould perform analysis: No data available after removing duplicates.\")"
   ]
  },
  {
   "cell_type": "code",
   "execution_count": null,
   "id": "bb660e76-4474-4251-9c09-c2b709ad1644",
   "metadata": {
    "execution": {
     "iopub.execute_input": "2025-04-18T22:57:57.655414Z",
     "iopub.status.busy": "2025-04-18T22:57:57.655414Z",
     "iopub.status.idle": "2025-04-18T22:57:57.689335Z",
     "shell.execute_reply": "2025-04-18T22:57:57.689335Z",
     "shell.execute_reply.started": "2025-04-18T22:57:57.655414Z"
    }
   },
   "outputs": [],
   "source": [
    "# Qd(ii)\n",
    "# Consider the data frame obtained after removing the duplicates.\n",
    "# Run an appropriate command to show the percentage of updating of each tool.\n",
    "update_percentage = df_no_duplicates.groupby('Tool')['Updated'].apply(\n",
    "    lambda x: (x=='Yes').mean() * 100\n",
    ").reset_index(name='Update Percentage')\n",
    "print(\"\\nPercentage of updating for each tool:\")\n",
    "print(update_percentage)"
   ]
  },
  {
   "cell_type": "markdown",
   "id": "2955bf4e-a7a8-422d-b7b9-b2ec3275b1aa",
   "metadata": {},
   "source": [
    "# Q(e) Data Visualization\n"
   ]
  },
  {
   "cell_type": "code",
   "execution_count": null,
   "id": "38c9411b-f7f4-4502-95cb-d40ca4d1c292",
   "metadata": {
    "execution": {
     "iopub.execute_input": "2025-04-18T22:57:57.701172Z",
     "iopub.status.busy": "2025-04-18T22:57:57.701172Z",
     "iopub.status.idle": "2025-04-18T22:57:57.719060Z",
     "shell.execute_reply": "2025-04-18T22:57:57.717052Z",
     "shell.execute_reply.started": "2025-04-18T22:57:57.701172Z"
    }
   },
   "outputs": [],
   "source": [
    "# Qe(i)\n",
    "# Consider the data frame obtained after removing the duplicates.\n",
    "# Create a bar chart showing the count of tools per department.\n",
    "\n",
    "dept_counts = df_no_duplicates['Department'].value_counts().reset_index()\n",
    "dept_counts.columns = ['Department', 'Count']\n",
    "number_of_departments = df_no_duplicates['Department'].nunique() # Determine the number of unique departments for the palette"
   ]
  },
  {
   "cell_type": "code",
   "execution_count": null,
   "id": "fc46e839-c64a-4576-9f46-c37e284175fa",
   "metadata": {
    "execution": {
     "iopub.execute_input": "2025-04-18T22:57:57.765553Z",
     "iopub.status.busy": "2025-04-18T22:57:57.765553Z",
     "iopub.status.idle": "2025-04-18T22:57:58.675873Z",
     "shell.execute_reply": "2025-04-18T22:57:58.675873Z",
     "shell.execute_reply.started": "2025-04-18T22:57:57.765553Z"
    }
   },
   "outputs": [],
   "source": [
    "#Using Seaborn library\n",
    "custom_palette = sns.color_palette(\"Spectral\", number_of_departments) # Create a custom palette which goes through the full color spectrum\n",
    "plt.figure(figsize=(15, 5))\n",
    "sns.countplot(x='Department', data=df_no_duplicates, palette=custom_palette)\n",
    "plt.title('Count of Tools per Department')\n",
    "plt.xlabel('Department')\n",
    "plt.ylabel('Number of Tools')\n",
    "plt.xticks(rotation=45, ha='right')  # Rotate x-axis labels for better readability\n",
    "plt.tight_layout()  # Adjusts the plot to fit the labels\n",
    "plt.show()"
   ]
  },
  {
   "cell_type": "code",
   "execution_count": null,
   "id": "27d2a0a3-6989-47ab-a69b-622c08b6b326",
   "metadata": {
    "execution": {
     "iopub.execute_input": "2025-04-18T22:57:58.683230Z",
     "iopub.status.busy": "2025-04-18T22:57:58.683230Z",
     "iopub.status.idle": "2025-04-18T22:58:10.088161Z",
     "shell.execute_reply": "2025-04-18T22:58:10.088161Z",
     "shell.execute_reply.started": "2025-04-18T22:57:58.683230Z"
    }
   },
   "outputs": [],
   "source": [
    "#Using plotly express library\n",
    "fig_dept = px.bar(dept_counts,\n",
    "                  x='Count',\n",
    "                  y='Department',\n",
    "                  orientation='h', # Horizontal bar chart\n",
    "                  title='Number of Unique Tools per Department',\n",
    "                  labels={'Count': 'Number of Tools', 'Department': 'Department'},\n",
    "                  template='plotly_white', # Use a clean template\n",
    "                  color='Count', # Color bars by count\n",
    "                  color_continuous_scale=px.colors.sequential.Viridis) # Color scale\n",
    "\n",
    "# Improve layout and sort bars\n",
    "fig_dept.update_layout(yaxis={'categoryorder':'total ascending'}) # Sort departments by count\n",
    "fig_dept.show() # Display the interactive chart"
   ]
  },
  {
   "cell_type": "code",
   "execution_count": null,
   "id": "5141a75a-d811-4e58-91b7-f20064758eed",
   "metadata": {
    "execution": {
     "iopub.execute_input": "2025-04-18T22:58:10.088161Z",
     "iopub.status.busy": "2025-04-18T22:58:10.088161Z",
     "iopub.status.idle": "2025-04-18T22:58:10.179075Z",
     "shell.execute_reply": "2025-04-18T22:58:10.179075Z",
     "shell.execute_reply.started": "2025-04-18T22:58:10.088161Z"
    }
   },
   "outputs": [],
   "source": [
    "#Using Altair library\n",
    "department_counts = df_no_duplicates.groupby('Department').size().reset_index(name='Count') #Aggregate tool counts per department.\n",
    "\n",
    "# Create an Altair bar chart.\n",
    "chart = alt.Chart(department_counts).mark_bar().encode(\n",
    "    x=alt.X('Department:N', title='Department', sort=None),\n",
    "    y=alt.Y('Count:Q', title='Number of Tools'),\n",
    "    color=alt.Color('Department:N', scale=alt.Scale(scheme='rainbow'))\n",
    ").properties(\n",
    "    title='Count of Tools per Department',\n",
    "    width=600,\n",
    "    height=400\n",
    ")\n",
    "\n",
    "chart"
   ]
  },
  {
   "cell_type": "code",
   "execution_count": null,
   "id": "7bb09e8e-d086-410c-8cb4-8cbc73356283",
   "metadata": {
    "execution": {
     "iopub.execute_input": "2025-04-18T22:58:10.179075Z",
     "iopub.status.busy": "2025-04-18T22:58:10.179075Z",
     "iopub.status.idle": "2025-04-18T22:58:10.564616Z",
     "shell.execute_reply": "2025-04-18T22:58:10.564616Z",
     "shell.execute_reply.started": "2025-04-18T22:58:10.179075Z"
    }
   },
   "outputs": [],
   "source": [
    "# Qe(ii)\n",
    "# Consider the data frame obtained after removing the duplicates.\n",
    "# Generate a pie chart for Analysis column.\n",
    "analysis_counts = df_no_duplicates['Analysis'].value_counts()\n",
    "\n",
    "#Using matplotlib library\n",
    "plt.figure(figsize=(8, 8))\n",
    "plt.pie(analysis_counts, labels=analysis_counts.index, autopct='%1.1f%%', startangle=200)\n",
    "centre_circle = plt.Circle((0, 0), 0.75, fc='white')\n",
    "fig = plt.gcf()\n",
    "fig.gca().add_artist(centre_circle)\n",
    "plt.title('Distribution of Analysis Types')\n",
    "plt.tight_layout()\n",
    "plt.show()"
   ]
  },
  {
   "cell_type": "code",
   "execution_count": null,
   "id": "9ba4d195-59ef-40d5-8ab2-ad9df0ae39ab",
   "metadata": {
    "execution": {
     "iopub.execute_input": "2025-04-18T22:58:10.564616Z",
     "iopub.status.busy": "2025-04-18T22:58:10.564616Z",
     "iopub.status.idle": "2025-04-18T22:58:10.995187Z",
     "shell.execute_reply": "2025-04-18T22:58:10.995187Z",
     "shell.execute_reply.started": "2025-04-18T22:58:10.564616Z"
    }
   },
   "outputs": [],
   "source": [
    "#Using plotly express library\n",
    "# Example: Aggregating data for 'Analysis' field from the deduplicated DataFrame\n",
    "analysis_distribution = df_no_duplicates['Analysis'].value_counts().reset_index()\n",
    "analysis_distribution.columns = ['Analysis', 'Count']\n",
    "\n",
    "# Create a doughnut chart using Plotly Express\n",
    "fig = px.pie(analysis_distribution,\n",
    "             values='Count',\n",
    "             names='Analysis',\n",
    "             title='Doughnut Chart for Analysis Distribution',\n",
    "             hole=0.4,  # Creates a \"hole\" in the center, making it a doughnut chart\n",
    "             color_discrete_sequence=px.colors.qualitative.Plotly)  # Optional: use a built-in color sequence\n",
    "\n",
    "# Optionally update layout settings for improved aesthetics\n",
    "fig.update_layout(\n",
    "    legend_title_text='Analysis Type',\n",
    "    margin=dict(t=50, b=0, l=0, r=0)\n",
    ")\n",
    "\n",
    "fig.show()"
   ]
  },
  {
   "cell_type": "code",
   "execution_count": null,
   "id": "84e26d91-7b93-41b2-a4b1-febc50efddc3",
   "metadata": {
    "execution": {
     "iopub.execute_input": "2025-04-18T22:58:10.995187Z",
     "iopub.status.busy": "2025-04-18T22:58:10.995187Z",
     "iopub.status.idle": "2025-04-18T22:58:11.329590Z",
     "shell.execute_reply": "2025-04-18T22:58:11.329590Z",
     "shell.execute_reply.started": "2025-04-18T22:58:10.995187Z"
    }
   },
   "outputs": [],
   "source": [
    "# Qe(iii)\n",
    "# Consider the data frame obtained after removing the duplicates.\n",
    "# Create a bar plot to show the number of tools that are marked as \"Updated\". \n",
    "\n",
    "#using seaborn library\n",
    "plt.figure(figsize=(8, 5))\n",
    "ax = sns.countplot(x='Updated', data=df_no_duplicates, palette='viridis')\n",
    "plt.title('Number of Tools Updated', fontsize=16)\n",
    "plt.xlabel('Updated Status', fontsize=14)\n",
    "plt.ylabel('Number of Tools', fontsize=14)\n",
    "plt.tight_layout()\n",
    "plt.show()"
   ]
  },
  {
   "cell_type": "code",
   "execution_count": null,
   "id": "3d24df3b-50d3-452c-89a8-db528be6229a",
   "metadata": {
    "execution": {
     "iopub.execute_input": "2025-04-18T22:58:11.331738Z",
     "iopub.status.busy": "2025-04-18T22:58:11.331738Z",
     "iopub.status.idle": "2025-04-18T22:58:11.668045Z",
     "shell.execute_reply": "2025-04-18T22:58:11.668045Z",
     "shell.execute_reply.started": "2025-04-18T22:58:11.331738Z"
    }
   },
   "outputs": [],
   "source": [
    "#using plotly and dash libraries\n",
    "\n",
    "df_updated_counts = df_no_duplicates['Updated'].value_counts().reset_index()\n",
    "df_updated_counts.columns = ['Updated', 'Count']\n",
    "\n",
    "# Create an interactive bar chart using Plotly Express.\n",
    "fig = px.bar(\n",
    "    df_updated_counts,\n",
    "    x='Updated',\n",
    "    y='Count',\n",
    "    title='Number of Tools Updated',\n",
    "    labels={'Count': 'Number of Tools', 'Updated': 'Updated Status'},\n",
    "    color='Updated',  # Differentiates categories by color\n",
    "    color_discrete_sequence=px.colors.qualitative.Plotly  # Use a predefined clean color sequence\n",
    ")\n",
    "# Refine the layout for a neat appearance.\n",
    "fig.update_layout(\n",
    "    xaxis_title='Updated Status',\n",
    "    yaxis_title='Number of Tools',\n",
    "    template='plotly_white'\n",
    ")\n",
    "\n",
    "# Build the Dash app.\n",
    "app = dash.Dash(__name__)\n",
    "\n",
    "# Define the layout of the app.\n",
    "app.layout = html.Div([\n",
    "    html.H1(\"Dashboard: Tools Updated Overview\", style={'textAlign': 'center'}),\n",
    "    dcc.Graph(figure=fig)\n",
    "])\n",
    "\n",
    "# Run the server.\n",
    "if __name__ == '__main__':\n",
    "    app.run(debug=True)"
   ]
  }
 ],
 "metadata": {
  "kernelspec": {
   "display_name": "Python (myenv)",
   "language": "python",
   "name": "myenv"
  },
  "language_info": {
   "codemirror_mode": {
    "name": "ipython",
    "version": 3
   },
   "file_extension": ".py",
   "mimetype": "text/x-python",
   "name": "python",
   "nbconvert_exporter": "python",
   "pygments_lexer": "ipython3",
   "version": "3.12.3"
  }
 },
 "nbformat": 4,
 "nbformat_minor": 5
}
