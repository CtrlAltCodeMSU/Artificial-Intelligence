{
 "cells": [
  {
   "cell_type": "code",
   "execution_count": null,
   "metadata": {},
   "outputs": [],
   "source": [
    "from collections import deque\n",
    "\n",
    "def bfs(graph, start, goal):\n",
    "    # The queue holds tuples of (current_node, path_so_far)\n",
    "    queue = deque([(start, [start])])\n",
    "    visited = set()\n",
    "    \n",
    "    while queue:\n",
    "        current, path = queue.popleft()\n",
    "        # Check if the goal has been reached\n",
    "        if current == goal:\n",
    "            return path\n",
    "        visited.add(current)\n",
    "        # Enqueue all unvisited neighbors\n",
    "        for neighbor in graph.get(current, []):\n",
    "            if neighbor not in visited:\n",
    "                queue.append((neighbor, path + [neighbor]))\n",
    "    return None\n",
    "\n",
    "# Example graph represented as an adjacency list\n",
    "graph = {\n",
    "    'A': ['B', 'C'],\n",
    "    'B': ['D', 'E'],\n",
    "    'C': ['F'],\n",
    "    'D': [],\n",
    "    'E': ['F'],\n",
    "    'F': []\n",
    "}\n",
    "# Find the shortest path from 'A' to 'F'\n",
    "path_bfs = bfs(graph, 'A', 'F')\n",
    "print(\"BFS path:\", path_bfs)\n"
   ]
  }
 ],
 "metadata": {
  "kernelspec": {
   "display_name": "Python 3",
   "language": "python",
   "name": "python3"
  },
  "language_info": {
   "codemirror_mode": {
    "name": "ipython",
    "version": 3
   },
   "file_extension": ".py",
   "mimetype": "text/x-python",
   "name": "python",
   "nbconvert_exporter": "python",
   "pygments_lexer": "ipython3",
   "version": "3.12.5"
  }
 },
 "nbformat": 4,
 "nbformat_minor": 2
}
