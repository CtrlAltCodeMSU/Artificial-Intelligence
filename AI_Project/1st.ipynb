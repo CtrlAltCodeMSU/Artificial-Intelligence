{
 "cells": [
  {
   "cell_type": "code",
   "execution_count": null,
   "metadata": {},
   "outputs": [
    {
     "name": "stdout",
     "output_type": "stream",
     "text": [
      "A* path: ['A', 'C', 'D']\n"
     ]
    }
   ],
   "source": [
    "# print(\"hello world\")\n",
    "# print(5+5)\n",
    "# print(\"hi\")\n",
    "# print(\"Hello World!\")\n",
    "# print(\"Hello World!\")\n",
    "\n",
    "import heapq\n",
    "\n",
    "def a_star_search(graph, start, goal, heuristic):\n",
    "    # Priority queue holds tuples: (f_score, g_score, current_node, path_so_far)\n",
    "    open_set = []\n",
    "    heapq.heappush(open_set, (heuristic[start], 0, start, [start]))\n",
    "    closed_set = set()\n",
    "    \n",
    "    while open_set:\n",
    "        f_score, g_score, current, path = heapq.heappop(open_set)\n",
    "        \n",
    "        # If the goal is reached, return the path\n",
    "        if current == goal:\n",
    "            return path\n",
    "        \n",
    "        # Skip if this node was already processed\n",
    "        if current in closed_set:\n",
    "            continue\n",
    "        closed_set.add(current)\n",
    "        \n",
    "        # Explore neighbors\n",
    "        for neighbor, cost in graph.get(current, []):\n",
    "            if neighbor in closed_set:\n",
    "                continue\n",
    "            new_g = g_score + cost\n",
    "            new_f = new_g + heuristic.get(neighbor, float('inf'))\n",
    "            heapq.heappush(open_set, (new_f, new_g, neighbor, path + [neighbor]))\n",
    "    return None\n",
    "\n",
    "# Define a graph where each node has neighbors with associated costs\n",
    "graph_astar = {\n",
    "    'A': [('B', 1), ('C', 4)],\n",
    "    'B': [('C', 2), ('D', 5)],\n",
    "    'C': [('D', 1)],\n",
    "    'D': []\n",
    "}\n",
    "\n",
    "# Heuristic: Estimated cost from each node to the goal 'D'\n",
    "heuristic = {\n",
    "    'A': 7,\n",
    "    'B': 6,\n",
    "    'C': 2,\n",
    "    'D': 0\n",
    "}\n",
    "\n",
    "path_astar = a_star_search(graph_astar, 'A', 'D', heuristic)\n",
    "print(\"A* path:\", path_astar)\n"
   ]
  }
 ],
 "metadata": {
  "kernelspec": {
   "display_name": "Python 3",
   "language": "python",
   "name": "python3"
  },
  "language_info": {
   "codemirror_mode": {
    "name": "ipython",
    "version": 3
   },
   "file_extension": ".py",
   "mimetype": "text/x-python",
   "name": "python",
   "nbconvert_exporter": "python",
   "pygments_lexer": "ipython3",
   "version": "3.12.5"
  }
 },
 "nbformat": 4,
 "nbformat_minor": 2
}
