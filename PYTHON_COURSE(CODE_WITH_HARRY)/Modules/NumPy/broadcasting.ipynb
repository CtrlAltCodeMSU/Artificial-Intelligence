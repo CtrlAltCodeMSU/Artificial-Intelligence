import numpy as np

# Create a 3x3 matrix
matrix = np.array([[1, 2, 3], [4, 5, 6], [7, 8, 9]])

# Create a 1D array of shape (3,)
vector = np.array([1, 0, -1])

# Broadcasting: Adding a 1D array to a 2D array (row-wise)
result = matrix + vector

print("Original matrix:\n", matrix)
print("Broadcasted addition:\n", result)
