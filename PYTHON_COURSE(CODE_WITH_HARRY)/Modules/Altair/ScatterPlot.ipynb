{
 "cells": [
  {
   "cell_type": "code",
   "execution_count": 6,
   "metadata": {},
   "outputs": [
    {
     "data": {
      "text/html": [
       "\n",
       "<style>\n",
       "  #altair-viz-697c4cc899ea4318aafea65feaafdf52.vega-embed {\n",
       "    width: 100%;\n",
       "    display: flex;\n",
       "  }\n",
       "\n",
       "  #altair-viz-697c4cc899ea4318aafea65feaafdf52.vega-embed details,\n",
       "  #altair-viz-697c4cc899ea4318aafea65feaafdf52.vega-embed details summary {\n",
       "    position: relative;\n",
       "  }\n",
       "</style>\n",
       "<div id=\"altair-viz-697c4cc899ea4318aafea65feaafdf52\"></div>\n",
       "<script type=\"text/javascript\">\n",
       "  var VEGA_DEBUG = (typeof VEGA_DEBUG == \"undefined\") ? {} : VEGA_DEBUG;\n",
       "  (function(spec, embedOpt){\n",
       "    let outputDiv = document.currentScript.previousElementSibling;\n",
       "    if (outputDiv.id !== \"altair-viz-697c4cc899ea4318aafea65feaafdf52\") {\n",
       "      outputDiv = document.getElementById(\"altair-viz-697c4cc899ea4318aafea65feaafdf52\");\n",
       "    }\n",
       "    const paths = {\n",
       "      \"vega\": \"https://cdn.jsdelivr.net/npm/vega@5?noext\",\n",
       "      \"vega-lib\": \"https://cdn.jsdelivr.net/npm/vega-lib?noext\",\n",
       "      \"vega-lite\": \"https://cdn.jsdelivr.net/npm/vega-lite@5.20.1?noext\",\n",
       "      \"vega-embed\": \"https://cdn.jsdelivr.net/npm/vega-embed@6?noext\",\n",
       "    };\n",
       "\n",
       "    function maybeLoadScript(lib, version) {\n",
       "      var key = `${lib.replace(\"-\", \"\")}_version`;\n",
       "      return (VEGA_DEBUG[key] == version) ?\n",
       "        Promise.resolve(paths[lib]) :\n",
       "        new Promise(function(resolve, reject) {\n",
       "          var s = document.createElement('script');\n",
       "          document.getElementsByTagName(\"head\")[0].appendChild(s);\n",
       "          s.async = true;\n",
       "          s.onload = () => {\n",
       "            VEGA_DEBUG[key] = version;\n",
       "            return resolve(paths[lib]);\n",
       "          };\n",
       "          s.onerror = () => reject(`Error loading script: ${paths[lib]}`);\n",
       "          s.src = paths[lib];\n",
       "        });\n",
       "    }\n",
       "\n",
       "    function showError(err) {\n",
       "      outputDiv.innerHTML = `<div class=\"error\" style=\"color:red;\">${err}</div>`;\n",
       "      throw err;\n",
       "    }\n",
       "\n",
       "    function displayChart(vegaEmbed) {\n",
       "      vegaEmbed(outputDiv, spec, embedOpt)\n",
       "        .catch(err => showError(`Javascript Error: ${err.message}<br>This usually means there's a typo in your chart specification. See the javascript console for the full traceback.`));\n",
       "    }\n",
       "\n",
       "    if(typeof define === \"function\" && define.amd) {\n",
       "      requirejs.config({paths});\n",
       "      require([\"vega-embed\"], displayChart, err => showError(`Error loading script: ${err.message}`));\n",
       "    } else {\n",
       "      maybeLoadScript(\"vega\", \"5\")\n",
       "        .then(() => maybeLoadScript(\"vega-lite\", \"5.20.1\"))\n",
       "        .then(() => maybeLoadScript(\"vega-embed\", \"6\"))\n",
       "        .catch(showError)\n",
       "        .then(() => displayChart(vegaEmbed));\n",
       "    }\n",
       "  })({\"config\": {\"view\": {\"continuousWidth\": 300, \"continuousHeight\": 300}}, \"data\": {\"name\": \"data-03e93946c5e827a3ffffccab9f65371c\"}, \"mark\": {\"type\": \"circle\", \"color\": \"Green\"}, \"encoding\": {\"x\": {\"field\": \"Age\", \"type\": \"quantitative\"}, \"y\": {\"field\": \"Salary\", \"type\": \"quantitative\"}}, \"height\": 300, \"title\": \"Age vs Salary\", \"width\": 500, \"$schema\": \"https://vega.github.io/schema/vega-lite/v5.20.1.json\", \"datasets\": {\"data-03e93946c5e827a3ffffccab9f65371c\": [{\"Name\": \"Alice Johnson\", \"Age\": 28, \"Department\": \"HR\", \"Salary\": 55000, \"Join Date\": \"2021-03-15\"}, {\"Name\": \"Bob Smith\", \"Age\": 34, \"Department\": \"Finance\", \"Salary\": 68000, \"Join Date\": \"2019-06-22\"}, {\"Name\": \"Catherine Green\", \"Age\": 30, \"Department\": \"IT\", \"Salary\": 72000, \"Join Date\": \"2020-10-30\"}, {\"Name\": \"David White\", \"Age\": 25, \"Department\": \"Marketing\", \"Salary\": 49000, \"Join Date\": \"2022-01-10\"}, {\"Name\": \"Eva Adams\", \"Age\": 29, \"Department\": \"Sales\", \"Salary\": 62000, \"Join Date\": \"2018-12-05\"}, {\"Name\": \"Frank Brown\", \"Age\": 31, \"Department\": \"HR\", \"Salary\": 56000, \"Join Date\": \"2021-05-12\"}, {\"Name\": \"Grace Lee\", \"Age\": 26, \"Department\": \"Finance\", \"Salary\": 59000, \"Join Date\": \"2019-03-19\"}, {\"Name\": \"Henry Miller\", \"Age\": 27, \"Department\": \"IT\", \"Salary\": 68000, \"Join Date\": \"2021-09-07\"}, {\"Name\": \"Isabella Martinez\", \"Age\": 33, \"Department\": \"Marketing\", \"Salary\": 51000, \"Join Date\": \"2020-11-14\"}, {\"Name\": \"Jack Wilson\", \"Age\": 24, \"Department\": \"Sales\", \"Salary\": 52000, \"Join Date\": \"2022-07-02\"}, {\"Name\": \"Kara Davis\", \"Age\": 35, \"Department\": \"HR\", \"Salary\": 61000, \"Join Date\": \"2018-08-11\"}, {\"Name\": \"Liam Moore\", \"Age\": 32, \"Department\": \"Finance\", \"Salary\": 70000, \"Join Date\": \"2019-10-21\"}, {\"Name\": \"Mia Taylor\", \"Age\": 28, \"Department\": \"IT\", \"Salary\": 66000, \"Join Date\": \"2020-06-30\"}, {\"Name\": \"Noah Anderson\", \"Age\": 30, \"Department\": \"Marketing\", \"Salary\": 48000, \"Join Date\": \"2021-04-18\"}, {\"Name\": \"Olivia Jackson\", \"Age\": 29, \"Department\": \"Sales\", \"Salary\": 60000, \"Join Date\": \"2019-02-26\"}, {\"Name\": \"Paul Harris\", \"Age\": 31, \"Department\": \"HR\", \"Salary\": 55000, \"Join Date\": \"2021-08-16\"}, {\"Name\": \"Quincy Martin\", \"Age\": 27, \"Department\": \"Finance\", \"Salary\": 67000, \"Join Date\": \"2020-03-12\"}, {\"Name\": \"Rachel Thompson\", \"Age\": 26, \"Department\": \"IT\", \"Salary\": 71000, \"Join Date\": \"2019-07-24\"}, {\"Name\": \"Samuel Wright\", \"Age\": 33, \"Department\": \"Marketing\", \"Salary\": 50000, \"Join Date\": \"2022-01-28\"}, {\"Name\": \"Tina Lewis\", \"Age\": 34, \"Department\": \"Sales\", \"Salary\": 64000, \"Join Date\": \"2020-09-09\"}, {\"Name\": \"Uma Scott\", \"Age\": 25, \"Department\": \"HR\", \"Salary\": 54000, \"Join Date\": \"2021-02-19\"}, {\"Name\": \"Victor Young\", \"Age\": 30, \"Department\": \"Finance\", \"Salary\": 69000, \"Join Date\": \"2019-12-08\"}, {\"Name\": \"Wendy King\", \"Age\": 29, \"Department\": \"IT\", \"Salary\": 72000, \"Join Date\": \"2021-11-23\"}, {\"Name\": \"Xander Baker\", \"Age\": 32, \"Department\": \"Marketing\", \"Salary\": 47000, \"Join Date\": \"2022-05-10\"}, {\"Name\": \"Yara Perez\", \"Age\": 28, \"Department\": \"Sales\", \"Salary\": 63000, \"Join Date\": \"2019-04-15\"}, {\"Name\": \"Zack Allen\", \"Age\": 31, \"Department\": \"HR\", \"Salary\": 58000, \"Join Date\": \"2020-12-17\"}]}}, {\"mode\": \"vega-lite\"});\n",
       "</script>"
      ],
      "text/plain": [
       "alt.Chart(...)"
      ]
     },
     "execution_count": 6,
     "metadata": {},
     "output_type": "execute_result"
    }
   ],
   "source": [
    "import altair as alt\n",
    "import pandas as pd\n",
    "\n",
    "data = pd.read_csv('Python.csv')\n",
    "\n",
    "plot = alt.Chart(data , width=500, height=300).mark_circle( color = 'Green').encode(\n",
    "  x = 'Age',\n",
    "  y = 'Salary'\n",
    ").properties(title = 'Age vs Salary')\n",
    "\n",
    "plot"
   ]
  }
 ],
 "metadata": {
  "kernelspec": {
   "display_name": "Python 3",
   "language": "python",
   "name": "python3"
  },
  "language_info": {
   "codemirror_mode": {
    "name": "ipython",
    "version": 3
   },
   "file_extension": ".py",
   "mimetype": "text/x-python",
   "name": "python",
   "nbconvert_exporter": "python",
   "pygments_lexer": "ipython3",
   "version": "3.12.5"
  }
 },
 "nbformat": 4,
 "nbformat_minor": 2
}
